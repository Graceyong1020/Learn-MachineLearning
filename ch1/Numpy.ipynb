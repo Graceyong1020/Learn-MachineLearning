{
 "cells": [
  {
   "cell_type": "code",
   "execution_count": 2,
   "id": "ebb981fd-97ef-40a6-af95-4b15f29bb88c",
   "metadata": {},
   "outputs": [],
   "source": [
    "import numpy as np"
   ]
  },
  {
   "cell_type": "code",
   "execution_count": 4,
   "id": "bf806203-14f0-4eb7-a4f4-b9ce1362a275",
   "metadata": {},
   "outputs": [
    {
     "name": "stdout",
     "output_type": "stream",
     "text": [
      "list1 type: <class 'list'>\n",
      "array type: <class 'numpy.ndarray'>\n",
      "array array shape: (3,)\n",
      "array2 type: <class 'numpy.ndarray'>\n",
      "array2 array shape: (2, 3)\n",
      "array3 type: <class 'numpy.ndarray'>\n",
      "array3 array shape: (1, 3)\n"
     ]
    }
   ],
   "source": [
    "list1=[1,2,3]\n",
    "print('list1 type:', type(list1))\n",
    "array1 = np.array(list1)\n",
    "#array1 = np.array([1,2,3])\n",
    "print('array type:',type(array1))\n",
    "print('array array shape:', array1.shape)\n",
    "\n",
    "array2 = np.array([[1,2,3], \n",
    "                   [2,3,4]])\n",
    "print('array2 type:',type(array2))\n",
    "print('array2 array shape:', array2.shape)     \n",
    "\n",
    "\n",
    "array3 = np.array([[1,2,3]]) # list of list -> row:1\n",
    "print('array3 type:',type(array3))\n",
    "print('array3 array shape:', array3.shape)     "
   ]
  },
  {
   "cell_type": "markdown",
   "id": "911ff329-db58-421e-a542-8122945d29eb",
   "metadata": {},
   "source": [
    "ndarray data type"
   ]
  },
  {
   "cell_type": "code",
   "execution_count": 5,
   "id": "6de2c40b-801b-4c3a-b8d0-7d6f5aaae81c",
   "metadata": {},
   "outputs": [
    {
     "name": "stdout",
     "output_type": "stream",
     "text": [
      "<class 'list'>\n",
      "<class 'numpy.ndarray'>\n",
      "[1 2 3] int32\n"
     ]
    }
   ],
   "source": [
    "list1 = [1,2,3]\n",
    "print(type(list1))\n",
    "array1 = np.array(list1)\n",
    "print(type(array1))\n",
    "print(array1, array1.dtype)"
   ]
  },
  {
   "cell_type": "code",
   "execution_count": 6,
   "id": "9d445e8e-08b5-436e-83f2-e1175c32ef70",
   "metadata": {},
   "outputs": [
    {
     "name": "stdout",
     "output_type": "stream",
     "text": [
      "['1' '2' 'test'] <U11\n",
      "[1.  2.  3.9] float64\n"
     ]
    }
   ],
   "source": [
    "list2 = [1,2, 'test'] # 자동 형변환\n",
    "array2 = np.array(list2)\n",
    "print(array2, array2.dtype)\n",
    "\n",
    "list3 = [1,2,3.9]\n",
    "array3 = np.array(list3)\n",
    "print(array3, array3.dtype)\n",
    "\n"
   ]
  },
  {
   "cell_type": "code",
   "execution_count": 7,
   "id": "55a5ca58-baf7-46e9-bc66-0d1ed09bf98e",
   "metadata": {},
   "outputs": [
    {
     "name": "stdout",
     "output_type": "stream",
     "text": [
      "[1. 2. 3.] float64\n",
      "[1 2 3] int32\n",
      "[1 2 3] int32\n"
     ]
    }
   ],
   "source": [
    "array_int = np.array([1,2,3])\n",
    "array_float = array_int.astype('float64') #(np.float64)도 가능\n",
    "print(array_float, array_float.dtype)\n",
    "\n",
    "array_int1=array_float.astype('int32')\n",
    "print(array_int1, array_int1.dtype)\n",
    "\n",
    "array_float1 = np.array([1.1, 2.1, 3.1])\n",
    "array_int2 = array_float1.astype('int32')\n",
    "print(array_int2, array_int2.dtype)\n"
   ]
  },
  {
   "cell_type": "markdown",
   "id": "4bd00356-9a8d-46ca-adc6-1b0d956a790c",
   "metadata": {},
   "source": [
    "ndarray를 편리하게 생성 - arrange, zeors, ones"
   ]
  },
  {
   "cell_type": "code",
   "execution_count": 9,
   "id": "63d960cd-a375-49ad-9b15-9a545461f2a0",
   "metadata": {},
   "outputs": [
    {
     "name": "stdout",
     "output_type": "stream",
     "text": [
      "[0 1 2 3 4 5 6 7 8 9]\n",
      "int32 (10,)\n"
     ]
    }
   ],
   "source": [
    "sequence_array = np.arange(10)\n",
    "print(sequence_array)\n",
    "print(sequence_array.dtype, sequence_array.shape)"
   ]
  },
  {
   "cell_type": "code",
   "execution_count": 11,
   "id": "46159ad5-c984-472a-9039-068d933ca4c9",
   "metadata": {},
   "outputs": [
    {
     "name": "stdout",
     "output_type": "stream",
     "text": [
      "[[0 0]\n",
      " [0 0]\n",
      " [0 0]]\n",
      "int32 (3, 2)\n",
      "[[1. 1.]\n",
      " [1. 1.]\n",
      " [1. 1.]]\n",
      "float64 (3, 2)\n"
     ]
    }
   ],
   "source": [
    "#(3,2) shape을 가지는 모든 원소가 0, dtype은 int32인 ndarray 생성\n",
    "zero_array = np.zeros((3,2), dtype='int32')\n",
    "print(zero_array)\n",
    "print(zero_array.dtype, zero_array.shape)\n",
    "\n",
    "#(3,2) hape을 가지는 모든 원소가 1인 ndarry 생성.\n",
    "one_array = np.ones((3,2))\n",
    "print(one_array)\n",
    "print(one_array.dtype, one_array.shape)"
   ]
  },
  {
   "cell_type": "markdown",
   "id": "4a8e9bb1-200a-4610-8b87-678a593e4903",
   "metadata": {},
   "source": [
    "ndarray의 차원과 크기를 변경하는 reshape"
   ]
  },
  {
   "cell_type": "code",
   "execution_count": 12,
   "id": "8d53892d-3c10-44f8-a9f4-6e3d55346f7c",
   "metadata": {},
   "outputs": [
    {
     "name": "stdout",
     "output_type": "stream",
     "text": [
      "array1:\n",
      " [0 1 2 3 4 5 6 7 8 9]\n",
      "array2:\n",
      " [[0 1 2 3 4]\n",
      " [5 6 7 8 9]]\n",
      "array3:\n",
      " [[0 1]\n",
      " [2 3]\n",
      " [4 5]\n",
      " [6 7]\n",
      " [8 9]]\n"
     ]
    }
   ],
   "source": [
    "array1 = np.arange(10)\n",
    "print('array1:\\n', array1)\n",
    "\n",
    "#(2,5) shape으로 변환\n",
    "array2 = array1.reshape(2,5)\n",
    "print('array2:\\n', array2)\n",
    "\n",
    "#(5,2)shape으로 변환\n",
    "array3 = array1.reshape(5,2)\n",
    "print('array3:\\n', array3)"
   ]
  },
  {
   "cell_type": "code",
   "execution_count": 13,
   "id": "97aeb507-edaf-4201-8caf-81fce62803b1",
   "metadata": {},
   "outputs": [
    {
     "ename": "ValueError",
     "evalue": "cannot reshape array of size 10 into shape (4,3)",
     "output_type": "error",
     "traceback": [
      "\u001b[1;31m---------------------------------------------------------------------------\u001b[0m",
      "\u001b[1;31mValueError\u001b[0m                                Traceback (most recent call last)",
      "Cell \u001b[1;32mIn[13], line 1\u001b[0m\n\u001b[1;32m----> 1\u001b[0m \u001b[43marray1\u001b[49m\u001b[38;5;241;43m.\u001b[39;49m\u001b[43mreshape\u001b[49m\u001b[43m(\u001b[49m\u001b[38;5;241;43m4\u001b[39;49m\u001b[43m,\u001b[49m\u001b[38;5;241;43m3\u001b[39;49m\u001b[43m)\u001b[49m\n",
      "\u001b[1;31mValueError\u001b[0m: cannot reshape array of size 10 into shape (4,3)"
     ]
    }
   ],
   "source": [
    "array1.reshape(4,3) #error"
   ]
  },
  {
   "cell_type": "code",
   "execution_count": 15,
   "id": "38bf47eb-5ba1-4cd7-b964-01cfdede1f9a",
   "metadata": {},
   "outputs": [
    {
     "name": "stdout",
     "output_type": "stream",
     "text": [
      "[0 1 2 3 4 5 6 7 8 9]\n",
      "array2 shape: (2, 5)\n",
      "array3 shape: (5, 2)\n"
     ]
    }
   ],
   "source": [
    "array1 = np.arange(10)\n",
    "print(array1)\n",
    "\n",
    "array2 = array1.reshape(-1,5)\n",
    "print('array2 shape:',array2.shape)\n",
    "\n",
    "array3 = array1.reshape(5,-1)\n",
    "print('array3 shape:',array3.shape)"
   ]
  },
  {
   "cell_type": "code",
   "execution_count": 16,
   "id": "0969ae9e-ccd1-4f34-bc33-fa0973fc79b2",
   "metadata": {},
   "outputs": [
    {
     "name": "stdout",
     "output_type": "stream",
     "text": [
      "array3d:\n",
      " [[[0, 1], [2, 3]], [[4, 5], [6, 7]]]\n",
      "array5:\n",
      " [[0], [1], [2], [3], [4], [5], [6], [7]]\n",
      "array5 shpae: (8, 1)\n",
      "array6:\n",
      " [[0], [1], [2], [3], [4], [5], [6], [7]]\n",
      "array6 shpae: (8, 1)\n"
     ]
    }
   ],
   "source": [
    "array1 = np.arange(8)\n",
    "array3d =  array1.reshape((2,2,2))\n",
    "print('array3d:\\n', array3d.tolist())\n",
    "\n",
    "#3차원 ndarray를 2차원 ndarray로 변환하되 칼럼객수는 1\n",
    "array5 = array3d.reshape(-1, 1)\n",
    "print('array5:\\n', array5.tolist())\n",
    "print('array5 shpae:' , array5.shape)\n",
    "\n",
    "#1차원 ndarray를 2차원 ndarray로 변환하되 칼럼 객수는 1\n",
    "array6 = array1.reshape(-1, 1)\n",
    "print('array6:\\n', array6.tolist())\n",
    "print('array6 shpae:', array6.shape)"
   ]
  },
  {
   "cell_type": "code",
   "execution_count": 17,
   "id": "d0a2e178-eb46-4405-9d80-7c46f451b146",
   "metadata": {},
   "outputs": [
    {
     "name": "stdout",
     "output_type": "stream",
     "text": [
      "[0 1 2 3 4 5 6 7]\n"
     ]
    }
   ],
   "source": [
    "#3차원 array를 1차원으로 변환\n",
    "array1d = array3d.reshape(-1,)\n",
    "print(array1d)"
   ]
  },
  {
   "cell_type": "markdown",
   "id": "44a7b290-e1fc-4993-b777-7aae1de6ff97",
   "metadata": {},
   "source": [
    "넘파이 ndarrayd의 데이터 세트 선택 - indexing\n",
    "\n",
    "[1] 단일 인덱싱"
   ]
  },
  {
   "cell_type": "code",
   "execution_count": 18,
   "id": "ed678f2d-6e59-4f35-8a22-ce88bd5483da",
   "metadata": {},
   "outputs": [
    {
     "name": "stdout",
     "output_type": "stream",
     "text": [
      "value: 3\n",
      "<class 'numpy.int32'>\n"
     ]
    }
   ],
   "source": [
    "#1에서부터 9까지의 1차원 ndarray 생성\n",
    "array1 = np.arange(start=1, stop=10)\n",
    "#index는 0부터 시작하므로 array1[2]는 3번째 index 위치의 데이터 값을 의미\n",
    "value = array1[2]\n",
    "print('value:', value)\n",
    "print(type(value))"
   ]
  },
  {
   "cell_type": "code",
   "execution_count": 20,
   "id": "085dc8bf-1cc6-4ddc-934d-2e72fac094ab",
   "metadata": {},
   "outputs": [
    {
     "name": "stdout",
     "output_type": "stream",
     "text": [
      "맨 뒤: 9 ,맨 뒤에서 두번째: 8\n"
     ]
    }
   ],
   "source": [
    "print('맨 뒤:',array1[-1], ',맨 뒤에서 두번째:', array1[-2]) "
   ]
  },
  {
   "cell_type": "code",
   "execution_count": 21,
   "id": "0d7fdbfb-199b-422a-8465-75514db20c5c",
   "metadata": {},
   "outputs": [
    {
     "name": "stdout",
     "output_type": "stream",
     "text": [
      "array1: [9 2 3 4 5 6 7 8 0]\n"
     ]
    }
   ],
   "source": [
    "array1[0] = 9\n",
    "array1[8] = 0\n",
    "print('array1:',array1)"
   ]
  },
  {
   "cell_type": "code",
   "execution_count": 22,
   "id": "96d79cc7-b7d0-460f-8041-49d8f31d984b",
   "metadata": {},
   "outputs": [
    {
     "name": "stdout",
     "output_type": "stream",
     "text": [
      "[[1 2 3]\n",
      " [4 5 6]\n",
      " [7 8 9]]\n",
      "(row=0,col=0) index value: 1\n",
      "(row=0,col=1) index value: 2\n",
      "(row=1,col=0) index value: 4\n",
      "(row=2,col=2) index value: 9\n"
     ]
    }
   ],
   "source": [
    "array1d = np.arange(start=1, stop=10) #1~9\n",
    "array2d = array1d.reshape(3,3)\n",
    "print(array2d)\n",
    "\n",
    "print('(row=0,col=0) index value:', array2d[0,0])\n",
    "print('(row=0,col=1) index value:', array2d[0,1])\n",
    "print('(row=1,col=0) index value:', array2d[1,0])\n",
    "print('(row=2,col=2) index value:', array2d[2,2])"
   ]
  },
  {
   "cell_type": "markdown",
   "id": "14e6828a-c0a3-44ec-9e92-4c485dfe65f5",
   "metadata": {},
   "source": [
    "[slicing indexing]"
   ]
  },
  {
   "cell_type": "code",
   "execution_count": 23,
   "id": "467926e9-c6da-49d6-a50e-ab4685c8279e",
   "metadata": {},
   "outputs": [
    {
     "name": "stdout",
     "output_type": "stream",
     "text": [
      "array1: [9 2 3 4 5 6 7 8 0]\n",
      "array3: [9 2 3]\n",
      "<class 'numpy.ndarray'>\n"
     ]
    }
   ],
   "source": [
    "array1d = np.arange(start=1, stop=10)\n",
    "print('array1:', array1)\n",
    "array3 = array1[0:3]\n",
    "print('array3:', array3)\n",
    "print(type(array3))"
   ]
  },
  {
   "cell_type": "code",
   "execution_count": 24,
   "id": "0fcafdd3-4d3e-4609-b31d-998971bf2a95",
   "metadata": {},
   "outputs": [
    {
     "name": "stdout",
     "output_type": "stream",
     "text": [
      "[1 2 3]\n",
      "[4 5 6 7 8 9]\n",
      "[1 2 3 4 5 6 7 8 9]\n"
     ]
    }
   ],
   "source": [
    "array1 = np.arange(start=1, stop=10)\n",
    "#위치 인덱스 0-2(2포함)까지 추출\n",
    "array4 = array1[:3]\n",
    "print(array4)\n",
    "\n",
    "#위치 인덱스 3~마지막까지 추출\n",
    "array5 = array1[3:]\n",
    "print(array5)\n",
    "\n",
    "#위치 인덱스로 전체 데이터 추출\n",
    "array6 = array1[:]\n",
    "print(array6)"
   ]
  },
  {
   "cell_type": "code",
   "execution_count": 26,
   "id": "48aace1f-f90e-4b6e-be5a-78ed63cabc7d",
   "metadata": {},
   "outputs": [
    {
     "name": "stdout",
     "output_type": "stream",
     "text": [
      "array2d:\n",
      " [[1 2 3]\n",
      " [4 5 6]\n",
      " [7 8 9]]\n",
      "array2d[0:2, 0:2] \n",
      " [[1 2]\n",
      " [4 5]]\n",
      "array2d[1:3, 0:3] \n",
      " [[4 5 6]\n",
      " [7 8 9]]\n",
      "array2d[1:3, :] \n",
      " [[4 5 6]\n",
      " [7 8 9]]\n",
      "array2d[:, :] \n",
      " [[1 2 3]\n",
      " [4 5 6]\n",
      " [7 8 9]]\n",
      "array2d[:2, 1:] \n",
      " [[2 3]\n",
      " [5 6]]\n",
      "array2d[:2, 0] \n",
      " [1 4]\n"
     ]
    }
   ],
   "source": [
    "array1d = np.arange(start=1, stop=10)\n",
    "array2d = array1d.reshape(3,3)\n",
    "print('array2d:\\n', array2d)\n",
    "\n",
    "print('array2d[0:2, 0:2] \\n', array2d[0:2, 0:2])\n",
    "print('array2d[1:3, 0:3] \\n', array2d[1:3, 0:3])\n",
    "print('array2d[1:3, :] \\n', array2d[1:3, :])\n",
    "print('array2d[:, :] \\n', array2d[:, :])\n",
    "print('array2d[:2, 1:] \\n', array2d[:2, 1:])\n",
    "print('array2d[:2, 0] \\n', array2d[:2, 0]) # 결과 1차원"
   ]
  },
  {
   "cell_type": "code",
   "execution_count": 27,
   "id": "a825ba3c-ce02-4323-92f4-a14454542c37",
   "metadata": {},
   "outputs": [
    {
     "name": "stdout",
     "output_type": "stream",
     "text": [
      "[1 2 3]\n",
      "[4 5 6]\n",
      "array2d[0] shape: (3,) array2d[1] shape: (3,)\n"
     ]
    }
   ],
   "source": [
    "print(array2d[0])\n",
    "print(array2d[1])\n",
    "print('array2d[0] shape:', array2d[0].shape, 'array2d[1] shape:', array2d[1].shape )"
   ]
  },
  {
   "cell_type": "markdown",
   "id": "b3f5cf57-361e-43df-b375-558b01389ebb",
   "metadata": {},
   "source": [
    " [fancing indexing]"
   ]
  },
  {
   "cell_type": "code",
   "execution_count": 28,
   "id": "6e5bd09b-3fdd-40a3-9f4b-cc7e12541144",
   "metadata": {},
   "outputs": [
    {
     "name": "stdout",
     "output_type": "stream",
     "text": [
      "[[1 2 3]\n",
      " [4 5 6]\n",
      " [7 8 9]]\n",
      "array2d[[0,1], 2] =>  [3, 6]\n",
      "array2d[[0,1], 0:2] =>  [[1, 2], [4, 5]]\n",
      "array2d[[0,1]] =>  [[1, 2, 3], [4, 5, 6]]\n"
     ]
    }
   ],
   "source": [
    "array1d = np.arange(start=1, stop=10)\n",
    "array2d = array1d.reshape(3,3)\n",
    "print(array2d)\n",
    "\n",
    "array3 = array2d[[0,1], 2]\n",
    "print('array2d[[0,1], 2] => ',array3.tolist())\n",
    "\n",
    "array4 = array2d[[0,1], 0:2]\n",
    "print('array2d[[0,1], 0:2] => ',array4.tolist())\n",
    "\n",
    "array5 = array2d[[0,1]]\n",
    "print('array2d[[0,1]] => ',array5.tolist())"
   ]
  },
  {
   "cell_type": "code",
   "execution_count": null,
   "id": "72cc6514-1889-4e8a-84d2-cc3a98a6951d",
   "metadata": {},
   "outputs": [],
   "source": [
    "[Boolean indexing]"
   ]
  },
  {
   "cell_type": "code",
   "execution_count": 29,
   "id": "3bf4dba5-8fc2-4c10-86ab-0eef1c94766e",
   "metadata": {},
   "outputs": [
    {
     "name": "stdout",
     "output_type": "stream",
     "text": [
      "[1 2 3 4 5 6 7 8 9]\n",
      "array1d > 5 불린 인덱싱 결과 값 : [6 7 8 9]\n"
     ]
    }
   ],
   "source": [
    "array1d = np.arange(start=1, stop=10)\n",
    "print(array1d)\n",
    "# [ ] 안에 array1d > 5 Boolean indexing을 적용 \n",
    "array3 = array1d[array1d > 5] #조건 필터링 \n",
    "print('array1d > 5 불린 인덱싱 결과 값 :', array3)"
   ]
  },
  {
   "cell_type": "code",
   "execution_count": 30,
   "id": "65fb2d3c-77e6-46e2-b418-b2ce0c5d0817",
   "metadata": {},
   "outputs": [
    {
     "data": {
      "text/plain": [
       "array([False, False, False, False, False,  True,  True,  True,  True])"
      ]
     },
     "execution_count": 30,
     "metadata": {},
     "output_type": "execute_result"
    }
   ],
   "source": [
    "array1d > 5 # boolean"
   ]
  },
  {
   "cell_type": "code",
   "execution_count": 32,
   "id": "bbc1e5d3-ae43-454e-9c3a-3f2b013ca20d",
   "metadata": {},
   "outputs": [
    {
     "name": "stdout",
     "output_type": "stream",
     "text": [
      "[False False False False False  True  True  True  True] <class 'numpy.ndarray'> (9,)\n"
     ]
    }
   ],
   "source": [
    "val = array1d > 5\n",
    "print(val, type(val), val.shape)"
   ]
  },
  {
   "cell_type": "code",
   "execution_count": 31,
   "id": "a48037bc-5690-4930-afc2-46392b272d46",
   "metadata": {},
   "outputs": [
    {
     "name": "stdout",
     "output_type": "stream",
     "text": [
      "불린 인덱스로 필터링 결과 : [6 7 8 9]\n"
     ]
    }
   ],
   "source": [
    "boolean_indexes = np.array([False, False, False, False, False,  True,  True,  True,  True])\n",
    "array3 = array1d[boolean_indexes]\n",
    "print('불린 인덱스로 필터링 결과 :', array3)"
   ]
  },
  {
   "cell_type": "code",
   "execution_count": 33,
   "id": "77026dd2-c62d-48a9-b065-e62a522141c0",
   "metadata": {},
   "outputs": [
    {
     "name": "stdout",
     "output_type": "stream",
     "text": [
      "[6 7 8 9]\n"
     ]
    }
   ],
   "source": [
    "array1d = np.arange(start=1, stop=10)\n",
    "target = []\n",
    "#불린 인덱싱을 적용하지 않았을 경우 \n",
    "for i in range(0, 9):\n",
    "    if array1d[i] > 5:\n",
    "        target.append(array1d[i])\n",
    "\n",
    "array_selected = np.array(target)\n",
    "print(array_selected)"
   ]
  },
  {
   "cell_type": "code",
   "execution_count": 35,
   "id": "823d63ac-c416-47e0-9fd7-c5e57bfc357c",
   "metadata": {},
   "outputs": [
    {
     "name": "stdout",
     "output_type": "stream",
     "text": [
      "일반 인덱스로 필터링 결과 : [6 7 8 9]\n"
     ]
    }
   ],
   "source": [
    "indexes = np.array([5,6,7,8])\n",
    "array4 = array1d[ indexes ]\n",
    "print('일반 인덱스로 필터링 결과 :',array4)"
   ]
  },
  {
   "cell_type": "markdown",
   "id": "c59c6cc4-c646-4a6e-8628-f375b7ceeb65",
   "metadata": {},
   "source": [
    "행렬의 정렬 - sort(), argsort()"
   ]
  },
  {
   "cell_type": "code",
   "execution_count": 34,
   "id": "0452aee2-4ef9-4ff5-89b2-1549600c91db",
   "metadata": {},
   "outputs": [
    {
     "name": "stdout",
     "output_type": "stream",
     "text": [
      "원본 배열: [3 1 9 5]\n",
      "np.sort( ) 호출 후 반환된 정렬 배열: [1 3 5 9]\n",
      "np.sort( ) 호출 후 원본 배열: [3 1 9 5]\n",
      "org_array.sort( ) 호출 후 반환된 배열: None\n",
      "org_array.sort( ) 호출 후 원본 배열: [1 3 5 9]\n"
     ]
    }
   ],
   "source": [
    "org_array = np.array([ 3, 1, 9, 5]) \n",
    "print('원본 배열:', org_array)\n",
    "# np.sort( )로 정렬 \n",
    "sort_array1 = np.sort(org_array)         \n",
    "print ('np.sort( ) 호출 후 반환된 정렬 배열:', sort_array1) \n",
    "print('np.sort( ) 호출 후 원본 배열:', org_array)\n",
    "# ndarray.sort( )로 정렬\n",
    "sort_array2 = org_array.sort()\n",
    "print('org_array.sort( ) 호출 후 반환된 배열:', sort_array2)\n",
    "print('org_array.sort( ) 호출 후 원본 배열:', org_array)"
   ]
  },
  {
   "cell_type": "code",
   "execution_count": 36,
   "id": "db059490-b3b2-4528-85e4-b217eefed7b6",
   "metadata": {},
   "outputs": [
    {
     "name": "stdout",
     "output_type": "stream",
     "text": [
      "내림차순으로 정렬: [9 5 3 1]\n"
     ]
    }
   ],
   "source": [
    "sort_array1_desc = np.sort(org_array)[::-1]\n",
    "print ('내림차순으로 정렬:', sort_array1_desc)"
   ]
  },
  {
   "cell_type": "code",
   "execution_count": 37,
   "id": "6e806711-fe59-422f-b984-67764e9d0e7f",
   "metadata": {},
   "outputs": [
    {
     "name": "stdout",
     "output_type": "stream",
     "text": [
      "로우 방향으로 정렬:\n",
      " [[ 7  1]\n",
      " [ 8 12]]\n",
      "컬럼 방향으로 정렬:\n",
      " [[ 8 12]\n",
      " [ 1  7]]\n"
     ]
    }
   ],
   "source": [
    "array2d = np.array([[8, 12], \n",
    "                   [7, 1 ]])\n",
    "\n",
    "sort_array2d_axis0 = np.sort(array2d, axis=0)\n",
    "print('로우 방향으로 정렬:\\n', sort_array2d_axis0)\n",
    "\n",
    "sort_array2d_axis1 = np.sort(array2d, axis=1)\n",
    "print('컬럼 방향으로 정렬:\\n', sort_array2d_axis1)"
   ]
  },
  {
   "cell_type": "code",
   "execution_count": 38,
   "id": "ee82c6f8-f832-47b0-a130-bb684043478d",
   "metadata": {},
   "outputs": [
    {
     "name": "stdout",
     "output_type": "stream",
     "text": [
      "<class 'numpy.ndarray'>\n",
      "행렬 정렬 시 원본 배열의 인덱스: [1 0 3 2]\n"
     ]
    }
   ],
   "source": [
    "org_array = np.array([ 3, 1, 9, 5]) \n",
    "sort_indices = np.argsort(org_array)\n",
    "print(type(sort_indices))\n",
    "print('행렬 정렬 시 원본 배열의 인덱스:', sort_indices)"
   ]
  },
  {
   "cell_type": "code",
   "execution_count": 39,
   "id": "4f47ccb4-4deb-4d5a-8ea1-e12342cf380b",
   "metadata": {},
   "outputs": [
    {
     "name": "stdout",
     "output_type": "stream",
     "text": [
      "행렬 내림차순 정렬 시 원본 배열의 인덱스: [2 3 0 1]\n"
     ]
    }
   ],
   "source": [
    "org_array = np.array([ 3, 1, 9, 5]) \n",
    "sort_indices_desc = np.argsort(org_array)[::-1]\n",
    "print('행렬 내림차순 정렬 시 원본 배열의 인덱스:', sort_indices_desc)"
   ]
  },
  {
   "cell_type": "code",
   "execution_count": 40,
   "id": "e37e61e0-6727-4823-9b71-8f27487ff4c9",
   "metadata": {},
   "outputs": [
    {
     "name": "stdout",
     "output_type": "stream",
     "text": [
      "성적 오름차순 정렬 시 score_array의 인덱스: [0 2 4 1 3]\n",
      "성적 오름차순으로 name_array의 이름 출력: ['John' 'Sarah' 'Samuel' 'Mike' 'Kate']\n"
     ]
    }
   ],
   "source": [
    "import numpy as np\n",
    "\n",
    "name_array = np.array(['John', 'Mike', 'Sarah', 'Kate', 'Samuel'])\n",
    "score_array= np.array([78, 95, 84, 98, 88])\n",
    "\n",
    "sort_indices_asc = np.argsort(score_array)\n",
    "print('성적 오름차순 정렬 시 score_array의 인덱스:', sort_indices_asc)\n",
    "print('성적 오름차순으로 name_array의 이름 출력:', name_array[sort_indices_asc])"
   ]
  },
  {
   "cell_type": "markdown",
   "id": "97b6eda9-d596-429b-93a1-2b0234ea2fc6",
   "metadata": {},
   "source": [
    "[선형대수 연산 - 행렬 내적과 전치 행렬]"
   ]
  },
  {
   "cell_type": "code",
   "execution_count": 41,
   "id": "5e79e410-1ffb-4e3c-a1ae-4823aa2c84fe",
   "metadata": {},
   "outputs": [
    {
     "name": "stdout",
     "output_type": "stream",
     "text": [
      "행렬 내적 결과:\n",
      " [[ 58  64]\n",
      " [139 154]]\n"
     ]
    }
   ],
   "source": [
    "A = np.array([[1, 2, 3],\n",
    "              [4, 5, 6]])\n",
    "B = np.array([[7, 8],\n",
    "              [9, 10],\n",
    "              [11, 12]])\n",
    "\n",
    "dot_product = np.dot(A, B)\n",
    "print('행렬 내적 결과:\\n', dot_product)"
   ]
  },
  {
   "cell_type": "code",
   "execution_count": 42,
   "id": "54a6dee6-bfe6-42a1-89a8-5539bad8cead",
   "metadata": {},
   "outputs": [
    {
     "name": "stdout",
     "output_type": "stream",
     "text": [
      "A의 전치 행렬:\n",
      " [[1 3]\n",
      " [2 4]]\n"
     ]
    }
   ],
   "source": [
    "A = np.array([[1, 2],\n",
    "              [3, 4]])\n",
    "transpose_mat = np.transpose(A)\n",
    "print('A의 전치 행렬:\\n', transpose_mat)"
   ]
  },
  {
   "cell_type": "code",
   "execution_count": null,
   "id": "8fa00afe-1949-4d64-bf27-2e56cb6a65b7",
   "metadata": {},
   "outputs": [],
   "source": []
  }
 ],
 "metadata": {
  "kernelspec": {
   "display_name": "Python 3 (ipykernel)",
   "language": "python",
   "name": "python3"
  },
  "language_info": {
   "codemirror_mode": {
    "name": "ipython",
    "version": 3
   },
   "file_extension": ".py",
   "mimetype": "text/x-python",
   "name": "python",
   "nbconvert_exporter": "python",
   "pygments_lexer": "ipython3",
   "version": "3.9.18"
  }
 },
 "nbformat": 4,
 "nbformat_minor": 5
}
